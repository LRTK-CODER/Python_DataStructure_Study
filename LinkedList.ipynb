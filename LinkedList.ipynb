{
  "nbformat": 4,
  "nbformat_minor": 0,
  "metadata": {
    "colab": {
      "name": "LinkedList.ipynb",
      "provenance": [],
      "collapsed_sections": [],
      "authorship_tag": "ABX9TyOt/1ABZOftM/DOgQQ+Y6lL",
      "include_colab_link": true
    },
    "kernelspec": {
      "name": "python3",
      "display_name": "Python 3"
    }
  },
  "cells": [
    {
      "cell_type": "markdown",
      "metadata": {
        "id": "view-in-github",
        "colab_type": "text"
      },
      "source": [
        "<a href=\"https://colab.research.google.com/github/LRTK-CODER/Python_DataStructure_Study/blob/main/LinkedList.ipynb\" target=\"_parent\"><img src=\"https://colab.research.google.com/assets/colab-badge.svg\" alt=\"Open In Colab\"/></a>"
      ]
    },
    {
      "cell_type": "markdown",
      "metadata": {
        "id": "h2mnZMeYStBv"
      },
      "source": [
        "# 연결 리스트란?\n",
        "연결 리스트는 데이터 집합을 저장할 때 사용되는 자료 구조이다.\n",
        "\n",
        "굳이 배열이 있는데 왜 연결 리스트를 사용하는 이유는 **배열은 메모리 공간에서 연속적으로 이어진 구조**로 되어있다. 이렇게 저장이 되면 컴퓨터는 사용자가 **배열이 사용할 정확한 데이터 공간을 모르기 때문에 추가적인 공간을 더 생성**해야한다. 또한 배열 공간 뒤에 다른 데이터가 없을까? 없으면 그냥 공간을 사용하면 되지만 있다면 **배열에 데이터를 추가하기 위해서는 배열 공간 뒤에 있는 데이터들을 옆으로 밀어줘야하는 작업이 필요**하다.\n",
        "\n",
        "이러한 문제점을 해결하고자 연결 리스트가 만들어지게 되었다. 연결 리스트는 연속된 데이터 공간이 필요가 없다. **Value와 Pointer로 이루어진 Node에 데이터와 다음 Node의 주소를 넣어주기 때문에 따로 떨어져도 되는 구조기 때문**이다.\n",
        "\n",
        "# ADT\n",
        "- 주요 함수\n",
        "    - Insult : 리스트의 지정된 위치에 Node 추가\n",
        "    - Delete : 리스트의 지정된 value의 Node 제거 후 반환\n",
        "- 보조 함수\n",
        "    - Delete List : 리스트의 모든 Node 제거\n",
        "    - Count : 리스트 내 모든 Node의 수를 출력"
      ]
    },
    {
      "cell_type": "code",
      "metadata": {
        "id": "ZChNxWddSk-S"
      },
      "source": [
        "class ListNode:\n",
        "    def __init__(self, value, pointer = None):\n",
        "        self.value = value\n",
        "        self.pointer = pointer"
      ],
      "execution_count": 2,
      "outputs": []
    },
    {
      "cell_type": "code",
      "metadata": {
        "id": "S8YULk0dbgxc",
        "colab": {
          "base_uri": "https://localhost:8080/"
        },
        "outputId": "a3170984-a6d3-4a86-9989-2903057f8a57"
      },
      "source": [
        "test = ListNode(1)\n",
        "test.pointer = ListNode(2)\n",
        "test.pointer.pointer = ListNode(3)\n",
        "test.pointer.pointer.pointer = ListNode(4)\n",
        "test.pointer.pointer.pointer.pointer = ListNode(5)\n",
        "\n",
        "current = test\n",
        "while current:\n",
        "    print(current.value, end=' ')\n",
        "    current = current.pointer"
      ],
      "execution_count": 3,
      "outputs": [
        {
          "output_type": "stream",
          "text": [
            "1 2 3 4 5 "
          ],
          "name": "stdout"
        }
      ]
    },
    {
      "cell_type": "markdown",
      "metadata": {
        "id": "-oQJE39xcvki"
      },
      "source": [
        "데이터를 저장하는 value와 주소를 저장하는 pointer로 이루어진 Node를 Class로 만들었다.\n",
        "\n",
        "현재 Node를 관리하는 Class가 없기 때문에 연결 리스트를 구성하기가 힘들다. 좀 더 쉽게 연결 리스트를 구현하기 위해 LinkedListManagement라는 Class를 생성하겠다."
      ]
    },
    {
      "cell_type": "code",
      "metadata": {
        "id": "qJb2Im6zenmf"
      },
      "source": [
        "class LinkedListManagement:\n",
        "    def __init__(self, value):\n",
        "        self.head = ListNode(value)\n",
        "        print(f'연결 리스트의 Head가 {self.head.value}를 지정합니다.')\n",
        "\n",
        "    def show(self):\n",
        "        current = self.head\n",
        "\n",
        "        print('연결 리스트 : ', end=' ')\n",
        "        while current != None:\n",
        "            print(current.value, end=' ')\n",
        "            current = current.pointer\n",
        "        print()\n",
        "    \n",
        "    def _add(self, value):\n",
        "        current = self.head\n",
        "        \n",
        "        while current.pointer:\n",
        "            current = current.pointer\n",
        "        \n",
        "        current.pointer = ListNode(value)\n",
        "        print(f'연결 리스트에 {current.pointer.value}를 추가하였습니다.')\n",
        "\n",
        "    def insult(self, value, index=None):\n",
        "        current = self.head\n",
        "        insultNode = ListNode(value)\n",
        "        count = 1\n",
        "        \n",
        "        if index == None:\n",
        "            self._add(value)\n",
        "        else:\n",
        "            if index == 0:\n",
        "                insultNode.pointer = current\n",
        "                self.head = insultNode\n",
        "            else:\n",
        "                while current:\n",
        "                    if count == index:\n",
        "                        break\n",
        "                    else:\n",
        "                        count += 1\n",
        "                        current = current.pointer\n",
        "\n",
        "                insultNode.pointer = current.pointer\n",
        "                current.pointer = insultNode\n",
        "            \n",
        "            print(f'연결 리스트의 {index+1}번째 위치에 {value}를 추가하였습니다.')"
      ],
      "execution_count": 18,
      "outputs": []
    },
    {
      "cell_type": "code",
      "metadata": {
        "colab": {
          "base_uri": "https://localhost:8080/"
        },
        "id": "evnHtqwTfbg9",
        "outputId": "8a44d80a-19f3-4e4c-b44c-90400470ac21"
      },
      "source": [
        "test2 = LinkedListManagement(1)\n",
        "\n",
        "for i in range(2, 6):\n",
        "    test2.insult(i)\n",
        "\n",
        "test2.show()\n",
        "\n",
        "test2.insult(6, 2)\n",
        "test2.show()\n",
        "\n",
        "# test2.insult(7, 10)\n",
        "# test2.show()"
      ],
      "execution_count": 6,
      "outputs": [
        {
          "output_type": "stream",
          "text": [
            "연결 리스트의 Head가 1를 지정합니다.\n",
            "연결 리스트에 2를 추가하였습니다.\n",
            "연결 리스트에 3를 추가하였습니다.\n",
            "연결 리스트에 4를 추가하였습니다.\n",
            "연결 리스트에 5를 추가하였습니다.\n",
            "연결 리스트 :  1 2 3 4 5 \n",
            "연결 리스트의 3번째 위치에 6를 추가하였습니다.\n",
            "연결 리스트 :  1 2 6 3 4 5 \n"
          ],
          "name": "stdout"
        }
      ]
    },
    {
      "cell_type": "markdown",
      "metadata": {
        "id": "EqorAcF2jh0d"
      },
      "source": [
        "Insult를 구현했지만, 수정해야하는 부분이 있다.\n",
        "일단 구현된 Insult를 설명하겠다.\n",
        "\n",
        "```\n",
        "def insult(self, value, index=None)\n",
        "```\n",
        "index의 기본값을 None으로 지정한 이유는 insult 메소드 사용 시 index을 지정 안한 경우에 연결 리스트의 맨 뒤에 추가하기 위해서 None으로 지정하였다.\n",
        "\n",
        "\n",
        "---\n",
        "\n",
        "\n",
        "\n",
        "```\n",
        "current = self.head\n",
        "insultNode = ListNode(value)\n",
        "count = 1\n",
        "```\n",
        "- current : 지정된 index의 Node\n",
        "- insultNode : 추가되는 Node\n",
        "- count : 연결 리스트의 위치를 찾기 위한 값\n",
        "\n",
        "\n",
        "---\n",
        "\n",
        "```\n",
        "def _add(self, value):\n",
        "        current = self.head\n",
        "        \n",
        "        while current.pointer:\n",
        "            current = current.pointer\n",
        "        \n",
        "        current.pointer = ListNode(value)\n",
        "        print(f'연결 리스트에 {current.pointer.value}를 추가하였습니다.')\n",
        "```\n",
        "_의 의미는 메소드가 protected이라는 뜻이다. 이 뜻은 클래스 외부에선 사용할 수 없지만, 예외적으로 상속 받은 클래스에선 이 메소드를 쓸 수 있다는 뜻이다.\n",
        "\n",
        "__의 의미는 메소드가 private이라는 뜻이다. 이 뜻은 클래스 외부, 상속에서 메소드를 사용할 수 없다는 뜻이다. 즉, 메소드를 정의한 클래스 내부에서만 사용 가능하다.\n",
        "\n",
        "_add 메소드는 while문으로 current.pointer가 None이 나올 때까지 current를 연결 리스트의 맨 뒤 Node로 지정하여 맨 뒤 Node의 pointer에 추가되는 Node를 넣어주는 기능이다.\n",
        "\n",
        "```\n",
        "if index == None:\n",
        "    self._add(value)\n",
        "```\n",
        "insult 메소드 사용 시 원하는 위치를 지정하지 않으면 _add 메소드를 이용하여 마지막 위치에 추가\n",
        "\n",
        "\n",
        "---\n",
        "\n",
        "\n",
        "\n",
        "```\n",
        "else:\n",
        "    if index == 0:\n",
        "        insultNode.pointer = current\n",
        "        self.head = insultNode\n",
        "    else:\n",
        "        while current:\n",
        "            if count == index:\n",
        "                break\n",
        "            else:\n",
        "                count += 1\n",
        "                current = current.pointer\n",
        "\n",
        "        insultNode.pointer = current.pointer\n",
        "        current.pointer = insultNode\n",
        "```\n",
        "원하는 index가 있는 경우는 2가지의 상황으로 나누어 볼 수 있다.\n",
        "1. index가 0일 경우\n",
        "    \n",
        "    이 경우는 insultNode의 pointer을 첫번째 노드로 지정한 다음에 head를 insultNode로 지정하였다.\n",
        "\n",
        "2. index가 0이 아닌 경우\n",
        "\n",
        "    이 경우는 while문과 count 변수를 이용하여 원하는 index을 찾고 추가하였다.\n",
        "\n",
        "하지만 문제는 index의 값이 0보다 작거나 연결 리스트의 총 개수보다 많은 값이 지정된 경우를 고려하지 않았다. 0보다 작은 값은 index == 0을 index <= 0으로 변경하면 되지만, 연결 리스트의 총 개수보다 많은 값은 따로 총 개수를 구하여 크기 비교를 해줘야 한다.\n",
        "\n",
        "이를 위해 count 메소드를 선언하여 크기 비교를 하겠다."
      ]
    },
    {
      "cell_type": "code",
      "metadata": {
        "id": "i0Ho7Siti9Cj"
      },
      "source": [
        "class InseultModify(LinkedListManagement):\n",
        "    def _listLength(self):\n",
        "        current = self.head\n",
        "        count = 0\n",
        "\n",
        "        while current:\n",
        "            count += 1\n",
        "            current = current.pointer\n",
        "        \n",
        "        return count\n",
        "\n",
        "    def insult(self, value, index=None):\n",
        "        current = self.head\n",
        "        insultNode = ListNode(value)\n",
        "        listLen = self._listLength()\n",
        "        count = 1\n",
        "        \n",
        "        if index == None:\n",
        "            self._add(value)\n",
        "        else:\n",
        "            if index <= 0:\n",
        "                insultNode.pointer = current\n",
        "                self.head = insultNode\n",
        "                return print(f'연결 리스트의 0번째 위치에 {value}를 추가하였습니다.')\n",
        "            \n",
        "            elif listLen < index:\n",
        "                while current.pointer:\n",
        "                    current = current.pointer\n",
        "                current.pointer = insultNode\n",
        "                return print(f'연결 리스트의 {listLen}번째 위치에 {value}를 추가하였습니다.')\n",
        "            \n",
        "            else:    \n",
        "                while current:\n",
        "                    if count == index:\n",
        "                        break\n",
        "                    else:\n",
        "                        count += 1\n",
        "                        current = current.pointer\n",
        "\n",
        "                insultNode.pointer = current.pointer\n",
        "                current.pointer = insultNode\n",
        "\n",
        "                return print(f'연결 리스트의 {index}번째 위치에 {value}를 추가하였습니다.')\n",
        "            \n",
        "            "
      ],
      "execution_count": 71,
      "outputs": []
    },
    {
      "cell_type": "code",
      "metadata": {
        "colab": {
          "base_uri": "https://localhost:8080/"
        },
        "id": "vWdJYSP6DjAk",
        "outputId": "be9b0d25-5248-448a-fd13-5bd87dfa7fac"
      },
      "source": [
        "test3 = InseultModify(1)\n",
        "\n",
        "for i in range(2, 6):\n",
        "    test3.insult(i)\n",
        "\n",
        "test3.show()\n",
        "\n",
        "test3.insult(6, 2)\n",
        "test3.show()\n",
        "\n",
        "test3.insult(7, -1)\n",
        "test3.show()\n",
        "\n",
        "test3.insult(8, 10)\n",
        "test3.show()"
      ],
      "execution_count": 72,
      "outputs": [
        {
          "output_type": "stream",
          "text": [
            "연결 리스트의 Head가 1를 지정합니다.\n",
            "연결 리스트에 2를 추가하였습니다.\n",
            "연결 리스트에 3를 추가하였습니다.\n",
            "연결 리스트에 4를 추가하였습니다.\n",
            "연결 리스트에 5를 추가하였습니다.\n",
            "연결 리스트 :  1 2 3 4 5 \n",
            "연결 리스트의 2번째 위치에 6를 추가하였습니다.\n",
            "연결 리스트 :  1 2 6 3 4 5 \n",
            "연결 리스트의 0번째 위치에 7를 추가하였습니다.\n",
            "연결 리스트 :  7 1 2 6 3 4 5 \n",
            "연결 리스트의 7번째 위치에 8를 추가하였습니다.\n",
            "연결 리스트 :  7 1 2 6 3 4 5 8 \n"
          ],
          "name": "stdout"
        }
      ]
    },
    {
      "cell_type": "markdown",
      "metadata": {
        "id": "nIYdyuOqP3da"
      },
      "source": [
        "초반에 제작한 클래스를 InseultModify 클래스에 상속시켜서 insult 메소드를 오버라이딩하여 수정하였다.\n",
        "\n",
        "수정한 것을 보기 쉽게 비교하기 위해서 복잡하게 수정한 것이니, 참고바란다.\n",
        "\n",
        "초반 insult 메소드에서 2가지 문제점이 있었다.\n",
        "- 삽입하는 index의 위치가 0보다 작을 때\n",
        "- 삽입하는 index의 위치가 연결 리스트의 크기를 벗어날 때\n",
        "\n",
        "이를 바로 잡기 위해 아래와 같이 수정을 하였다.\n",
        "\n",
        "\n",
        "---\n",
        "\n",
        "\n",
        "**LinkedListManagement 클래스의 insert 메소드**\n",
        "```python3\n",
        "if index == 0:\n",
        "    insultNode.pointer = current\n",
        "    self.head = insultNode\n",
        "```\n",
        "\n",
        "**InseultModify 클래스의 insert 메소드**\n",
        "```python3\n",
        "if index <= 0:\n",
        "    insultNode.pointer = current\n",
        "    self.head = insultNode\n",
        "    return print(f'연결 리스트의 0번째 위치에 {value}를 추가하였습니다.')\n",
        "```\n",
        "\n",
        "index가 0보다 작은 수일 때를 고려하여 수정하였다.\n",
        "\n",
        "---\n",
        "\n",
        "\n",
        "**LinkedListManagement 클래스의 insert 메소드**\n",
        "```python3\n",
        "else:\n",
        "    while current:\n",
        "        if count == index:\n",
        "            break\n",
        "        else:\n",
        "            count += 1\n",
        "            current = current.pointer\n",
        "\n",
        "    insultNode.pointer = current.pointer\n",
        "    current.pointer = insultNode\n",
        "```\n",
        "\n",
        "**InseultModify 클래스의 insert 메소드**\n",
        "```python3\n",
        "listLen = self._listLength()\n",
        "\n",
        "elif listLen < index:\n",
        "    while current.pointer:\n",
        "        current = current.pointer\n",
        "    current.pointer = insultNode\n",
        "    return print(f'연결 리스트의 {listLen}번째 위치에 {value}를 추가하였습니다.')\n",
        "\n",
        "else:    \n",
        "    while current:\n",
        "        if count == index:\n",
        "            break\n",
        "        else:\n",
        "            count += 1\n",
        "            current = current.pointer\n",
        "\n",
        "    insultNode.pointer = current.pointer\n",
        "    current.pointer = insultNode\n",
        "\n",
        "    return print(f'연결 리스트의 {index}번째 위치에 {value}를 추가하였습니다.')\n",
        "```\n",
        "\n",
        "**InseultModify 클래스의 _listLength 메소드**\n",
        "```python3\n",
        "def _listLength(self):\n",
        "    current = self.head\n",
        "    count = 0\n",
        "\n",
        "    while current:\n",
        "        count += 1\n",
        "        current = current.pointer\n",
        "    \n",
        "    return count\n",
        "```\n",
        "\n",
        "_listLength 메소드를 생성하여 연결 리스트의 총 개수를 구하여 index가 총 개수보다 큰 경우를 고려하였다.\n",
        "\n",
        "크기 비교 후 index를 총 개수로 변경하여 값을 맨 뒤로 삽입할 수 있다. 하지만 위 예제는 수정을 좀 더 보여주기 위해 elif로 따로 빼놨다.\n"
      ]
    },
    {
      "cell_type": "code",
      "metadata": {
        "id": "xMySglvlDpmD"
      },
      "source": [
        ""
      ],
      "execution_count": null,
      "outputs": []
    }
  ]
}