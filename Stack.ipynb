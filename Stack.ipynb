{
  "nbformat": 4,
  "nbformat_minor": 0,
  "metadata": {
    "colab": {
      "name": "Stack.ipynb",
      "provenance": [],
      "authorship_tag": "ABX9TyPgawVO+moClRMOJLz8zaWU",
      "include_colab_link": true
    },
    "kernelspec": {
      "name": "python3",
      "display_name": "Python 3"
    },
    "language_info": {
      "name": "python"
    }
  },
  "cells": [
    {
      "cell_type": "markdown",
      "metadata": {
        "id": "view-in-github",
        "colab_type": "text"
      },
      "source": [
        "<a href=\"https://colab.research.google.com/github/LRTK-CODER/Python_DataStructure_Study/blob/main/Stack.ipynb\" target=\"_parent\"><img src=\"https://colab.research.google.com/assets/colab-badge.svg\" alt=\"Open In Colab\"/></a>"
      ]
    },
    {
      "cell_type": "markdown",
      "metadata": {
        "id": "Fdh3ruakiOJN"
      },
      "source": [
        "# 스택이란?\n",
        "스택은 데이터를 저장하는데 사용되는 간단한 자료구조이다.\n",
        "\n",
        "스택은 데이터가 위치하는 순서가 매우 중요하다. 스택의 예시는 뷔페에서 먹고 접시를 쌓아 놓는 것이 그 예시이다. 첫번째로 먹은 그릇이 맨 밑으로 가고, 마지막에 먹은 그릇이 맨 위로 간다.\n",
        "\n",
        "설거지를 하기 위해 그릇을 빼는데 맨 밑에서 꺼내서 설거지를 하는 것이 아닌 맨 위에서 꺼내서 설거지를 하는 것이 스택의 원리이다.\n",
        "\n",
        "# ADT\n",
        "- 주요 기능\n",
        "    - Push : 데이터를 스택에 삽입\n",
        "    - Pop : 스택에서 마지막으로 삽입된 데이터를 제거하고 제거된 데이터 반환\n",
        "- 보조 기능\n",
        "    - Top : 스택에 마지막으로 삽입된 데이터를 제거하지 않고 반환\n",
        "    - Size : 스택에 저장된 데이터들의 수를 반환\n",
        "    - IsEmptyStack : 스택에 저장된 데이터가 있는지 여부를 반환\n",
        "    - IsFullStack : 스택이 꽉 찾는지 여부를 반환\n",
        "\n",
        "스택에서 예외적인 상황이 2가지가 있다.\n",
        "- underflow : 비어있는 스택에서 데이터를 꺼내는 것\n",
        "- overflow : 꽉 찬 스택에 데이터를 삽입하는 것\n"
      ]
    },
    {
      "cell_type": "code",
      "metadata": {
        "id": "p4bcu9nriLjC"
      },
      "source": [
        "class Stack:\n",
        "    \n"
      ],
      "execution_count": null,
      "outputs": []
    }
  ]
}