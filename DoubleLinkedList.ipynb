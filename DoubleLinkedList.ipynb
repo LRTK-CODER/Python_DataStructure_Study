{
  "nbformat": 4,
  "nbformat_minor": 0,
  "metadata": {
    "colab": {
      "name": "DoubleLinkedList.ipynb",
      "provenance": [],
      "collapsed_sections": [],
      "authorship_tag": "ABX9TyNgNWme7U78ULp6cemZw/DN",
      "include_colab_link": true
    },
    "kernelspec": {
      "name": "python3",
      "display_name": "Python 3"
    },
    "language_info": {
      "name": "python"
    }
  },
  "cells": [
    {
      "cell_type": "markdown",
      "metadata": {
        "id": "view-in-github",
        "colab_type": "text"
      },
      "source": [
        "<a href=\"https://colab.research.google.com/github/LRTK-CODER/Python_DataStructure_Study/blob/main/DoubleLinkedList.ipynb\" target=\"_parent\"><img src=\"https://colab.research.google.com/assets/colab-badge.svg\" alt=\"Open In Colab\"/></a>"
      ]
    },
    {
      "cell_type": "markdown",
      "metadata": {
        "id": "8EV5TnivSf4U"
      },
      "source": [
        "# 이중 연결 리스트(Double Linked List)란?\n",
        "단일 연결 리스트와 다르게 양방향으로 탐색할 수 있다. 또한 이전 노드의 포인터를 획득해야만 삭제할 수 있다는 단일 연결 리스트의 단점을 보완하였다.\n",
        "\n",
        "## 이중 연결 리스트의 단점\n",
        "- 이전 노드의 포인터를 저장할 공간이 요구됨.\n",
        "- 노드를 삽입하거나 삭제하려면 연산 과정이 더 필요함.\n",
        "\n",
        "# ADT\n",
        "단일 연결 리스트와 기능은 같다.\n",
        "\n",
        "- 주요 함수\n",
        "    - Insult : 리스트의 지정된 위치에 Node 추가\n",
        "    - Delete : 리스트의 지정된 value의 Node 제거 후 반환\n",
        "- 보조 함수\n",
        "    - Delete List : 리스트의 모든 Node 제거\n",
        "    - Count : 리스트 내 모든 Node의 수를 출력"
      ]
    },
    {
      "cell_type": "code",
      "metadata": {
        "id": "oBGABwvtQm73"
      },
      "source": [
        "class DoubleNode:\n",
        "    def __init__(self, value, prev=None, next=None):\n",
        "        self.prev = prev\n",
        "        self.value = value\n",
        "        self.next = next"
      ],
      "execution_count": 4,
      "outputs": []
    },
    {
      "cell_type": "markdown",
      "metadata": {
        "id": "k66gxQhJRqk8"
      },
      "source": [
        "이중 연결 리스트를 만들기 위해 앞 Node를 가리키는 prev, 뒤 Node를 가리키는 next를 선언하였다."
      ]
    },
    {
      "cell_type": "code",
      "metadata": {
        "id": "3mzFPaesQ8c8"
      },
      "source": [
        "class DoubleLinkedList:\n",
        "    def __init__(self, value):\n",
        "        self.head = DoubleNode(value)\n",
        "        print(f'연결 리스트의 Head가 {self.head.value}로 지정합니다.')\n",
        "    \n",
        "    def show(self):\n",
        "        print()\n",
        "        current = self.head\n",
        "\n",
        "        print('이중 연결 리스트의 Next Show >>', end=' ')\n",
        "        while current.next:\n",
        "            print(current.value, end=' ')\n",
        "            current = current.next\n",
        "        print(current.value)\n",
        "        \n",
        "        print('이중 연결 리스트의 Prev Show >>', end=' ')\n",
        "        while current:\n",
        "            print(current.value, end=' ')\n",
        "            current = current.prev\n",
        "        print('\\n\\n')\n",
        "\n",
        "    def _add(self, value):\n",
        "        current = self.head\n",
        "\n",
        "        while current.next:\n",
        "            current = current.next\n",
        "        \n",
        "        current.next = DoubleNode(value)\n",
        "        current.next.prev = current\n",
        "\n",
        "        print(f'이중 연결 리스트에 {value}를 추가하였습니다.')\n",
        "\n",
        "    def _listLength(self):\n",
        "        current = self.head\n",
        "        count = 0\n",
        "\n",
        "        while current:\n",
        "            count += 1\n",
        "            current = current.next\n",
        "        \n",
        "        return count\n",
        "\n",
        "    def insult(self, value, index=None):\n",
        "        self._add(value)"
      ],
      "execution_count": 54,
      "outputs": []
    },
    {
      "cell_type": "code",
      "metadata": {
        "colab": {
          "base_uri": "https://localhost:8080/"
        },
        "id": "ma2BFarIUW8Q",
        "outputId": "22d1d812-0d82-4c1c-8f88-3f092333c8d9"
      },
      "source": [
        "test = DoubleLinkedList(1)\n",
        "for i in range(2, 10):\n",
        "    test.insult(i)\n",
        "\n",
        "test.show()"
      ],
      "execution_count": 55,
      "outputs": [
        {
          "output_type": "stream",
          "text": [
            "연결 리스트의 Head가 1로 지정합니다.\n",
            "이중 연결 리스트에 2를 추가하였습니다.\n",
            "이중 연결 리스트에 3를 추가하였습니다.\n",
            "이중 연결 리스트에 4를 추가하였습니다.\n",
            "이중 연결 리스트에 5를 추가하였습니다.\n",
            "이중 연결 리스트에 6를 추가하였습니다.\n",
            "이중 연결 리스트에 7를 추가하였습니다.\n",
            "이중 연결 리스트에 8를 추가하였습니다.\n",
            "이중 연결 리스트에 9를 추가하였습니다.\n",
            "\n",
            "이중 연결 리스트의 Next Show >> 1 2 3 4 5 6 7 8 9\n",
            "이중 연결 리스트의 Prev Show >> 9 8 7 6 5 4 3 2 1 \n",
            "\n",
            "\n"
          ],
          "name": "stdout"
        }
      ]
    },
    {
      "cell_type": "markdown",
      "metadata": {
        "id": "HfP4eVlXZt-e"
      },
      "source": [
        "전에 만든 연결 리스트의 코드 중 일부를 갖고와서 조금 수정하였다.\n",
        "위 코드에서 수정한 부분은 show 메소드와 _add 메소드을 수정하였다.\n",
        "\n",
        "- show 메소드는 첫번째 Node부터 마지막 Node까지 출력 후 마지막 Node에서 첫번째 Node까지 출력하게 하였다.\n",
        "\n",
        "- _add 메소드는 Prev과 Next를 지정하여 연결 리스트의 마지막 Node의 Next에 추가하였다.\n",
        "\n",
        "이제 insult 메소드를 이중 연결 리스트에 맞게 수정하겠다."
      ]
    },
    {
      "cell_type": "code",
      "metadata": {
        "id": "sY6KQaTsWVx7"
      },
      "source": [
        "class InsultModify(DoubleLinkedList):\n",
        "    def insult(self, value, index=None):\n",
        "        current = self.head\n",
        "        listLen = self._listLength()\n",
        "\n",
        "        if index == None or index >= listLen:\n",
        "            self._add(value)\n",
        "        else:\n",
        "            if index <= 0:\n",
        "                current.prev = DoubleNode(value)\n",
        "                self.head = current.prev\n"
      ],
      "execution_count": 68,
      "outputs": []
    },
    {
      "cell_type": "code",
      "metadata": {
        "colab": {
          "base_uri": "https://localhost:8080/"
        },
        "id": "BZazL8bphJZ_",
        "outputId": "ab7f21c3-c617-4055-d422-aaccf00fb881"
      },
      "source": [
        "test2 = InsultModify(1)\n",
        "for i in range(2, 6):\n",
        "    test2.insult(i)\n",
        "\n",
        "test2.insult(6)\n",
        "test2.insult(7, 6)\n",
        "test2.show()"
      ],
      "execution_count": 69,
      "outputs": [
        {
          "output_type": "stream",
          "text": [
            "연결 리스트의 Head가 1로 지정합니다.\n",
            "이중 연결 리스트에 2를 추가하였습니다.\n",
            "이중 연결 리스트에 3를 추가하였습니다.\n",
            "이중 연결 리스트에 4를 추가하였습니다.\n",
            "이중 연결 리스트에 5를 추가하였습니다.\n",
            "이중 연결 리스트에 6를 추가하였습니다.\n",
            "이중 연결 리스트에 7를 추가하였습니다.\n",
            "\n",
            "이중 연결 리스트의 Next Show >> 1 2 3 4 5 6 7\n",
            "이중 연결 리스트의 Prev Show >> 7 6 5 4 3 2 1 \n",
            "\n",
            "\n"
          ],
          "name": "stdout"
        }
      ]
    },
    {
      "cell_type": "code",
      "metadata": {
        "id": "0SNgeu-PhMBf"
      },
      "source": [
        ""
      ],
      "execution_count": null,
      "outputs": []
    }
  ]
}